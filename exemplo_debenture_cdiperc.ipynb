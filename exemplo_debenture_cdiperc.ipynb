{
 "cells": [
  {
   "cell_type": "markdown",
   "metadata": {},
   "source": [
    "####  Precificando Debenture CDI + \n",
    "##### https://data.anbima.com.br/debentures/CSMGA4/caracteristicas\n",
    "Dados da debenture foram pegos em 2023-08-03, por isso ha fluxos liquidados. Vamos precificar nos baseando na data base abaixo\n",
    "Data base de calculo 2022-01-2022"
   ]
  },
  {
   "cell_type": "code",
   "execution_count": 169,
   "metadata": {},
   "outputs": [],
   "source": [
    "import pandas as pd\n",
    "import numpy as np\n",
    "from decimal import Decimal\n",
    "from pandas.tseries.offsets import BDay\n",
    "from pandas.tseries.offsets import CustomBusinessDay\n",
    "import itertools"
   ]
  },
  {
   "cell_type": "code",
   "execution_count": 170,
   "metadata": {},
   "outputs": [],
   "source": [
    "def truncar_casas_decimais(valor, casas):\n",
    "    multiplicador = 10 ** casas\n",
    "    return int(valor * multiplicador) / multiplicador"
   ]
  },
  {
   "cell_type": "markdown",
   "metadata": {},
   "source": [
    "1. Estabelecendo fluxos (pegos do site da Anbima)"
   ]
  },
  {
   "cell_type": "code",
   "execution_count": 171,
   "metadata": {},
   "outputs": [],
   "source": [
    "# Dados fornecidos\n",
    "dados = \"\"\"\n",
    "16/09/2019\t16/09/2019\tPagamento de juros\t106,1500 %\tR$ 14,627060\tLIQUIDADO\n",
    "16/12/2019\t16/12/2019\tPagamento de juros\t106,1500 %\tR$ 13,669380\tLIQUIDADO\n",
    "16/03/2020\t16/03/2020\tPagamento de juros\t106,1500 %\tR$ 10,870450\tLIQUIDADO\n",
    "15/06/2020\t15/06/2020\tPagamento de juros\t106,1500 %\tR$ 8,513049\tLIQUIDADO\n",
    "15/09/2020\t15/09/2020\tPagamento de juros\t106,1500 %\tR$ 5,654030\tLIQUIDADO\n",
    "15/12/2020\t15/12/2020\tPagamento de juros\t106,1500 %\tR$ 5,007149\tLIQUIDADO\n",
    "15/03/2021\t15/03/2021\tPagamento de juros\t106,1500 %\tR$ 4,768150\tLIQUIDADO\n",
    "15/06/2021\t15/06/2021\tPagamento de juros\t106,1500 %\tR$ 7,705580\tAGUARDANDO PU\n",
    "15/09/2021\t15/09/2021\tAmortizacao\t8,3000 %\tR$ 83,000000\tLIQUIDADO\n",
    "15/09/2021\t15/09/2021\tPagamento de juros\t106,1500 %\tR$ 12,274150\tLIQUIDADO\n",
    "15/12/2021\t15/12/2021\tAmortizacao\t9,0513 %\tR$ 83,000420\tLIQUIDADO\n",
    "15/12/2021\t15/12/2021\tPagamento de juros\t106,1500 %\tR$ 16,162830\tLIQUIDADO\n",
    "15/03/2022\t15/03/2022\tAmortizacao\t9,9520 %\tR$ 82,999638\tLIQUIDADO\n",
    "15/03/2022\t15/03/2022\tPagamento de juros\t106,1500 %\tR$ 20,565820\tLIQUIDADO\n",
    "07/04/2022\t07/04/2022\tPremio\t0,0000%\tR$ 1,710089\tLIQUIDADO\n",
    "15/06/2022\t15/06/2022\tAmortizacao\t11,0519 %\tR$ 82,999762\tLIQUIDADO\n",
    "15/06/2022\t15/06/2022\tPagamento de juros\t106,1500 %\tR$ 23,429560\tLIQUIDADO\n",
    "15/09/2022\t15/09/2022\tAmortizacao\t12,4251 %\tR$ 82,999690\tLIQUIDADO\n",
    "15/09/2022\t15/09/2022\tPagamento de juros\t106,1500 %\tR$ 22,981724\tLIQUIDADO\n",
    "15/12/2022\t15/12/2022\tAmortizacao\t14,1880 %\tR$ 82,999869\tLIQUIDADO\n",
    "15/12/2022\t15/12/2022\tPagamento de juros\t106,1500 %\tR$ 19,878720\tLIQUIDADO\n",
    "15/03/2023\t15/03/2023\tAmortizacao\t16,5339 %\tR$ 83,000280\tLIQUIDADO\n",
    "15/03/2023\t15/03/2023\tPagamento de juros\t106,1500 %\tR$ 17,058327\tLIQUIDADO\n",
    "15/06/2023\t15/06/2023\tAmortizacao\t19,8091 %\tR$ 83,000196\tLIQUIDADO\n",
    "15/06/2023\t15/06/2023\tPagamento de juros\t106,1500 %\tR$ 14,237920\tLIQUIDADO\n",
    "15/09/2023\t15/09/2023\tAmortizacao\t24,7024 %\t-\tPREVISTO\n",
    "15/09/2023\t15/09/2023\tPagamento de juros\t106,1500 %\t-\tPREVISTO\n",
    "15/12/2023\t15/12/2023\tAmortizacao\t32,8063 %\t-\tPREVISTO\n",
    "15/12/2023\t15/12/2023\tPagamento de juros\t106,1500 %\t-\tPREVISTO\n",
    "15/03/2024\t15/03/2024\tAmortizacao\t48,8235 %\t-\tPREVISTO\n",
    "15/03/2024\t15/03/2024\tPagamento de juros\t106,1500 %\t-\tPREVISTO\n",
    "15/06/2024\t17/06/2024\tVencimento (resgate)\t100,0000 %\t-\tPREVISTO\n",
    "15/06/2024\t17/06/2024\tPagamento de juros\t106,1500 %\t-\tPREVISTO\n",
    "\"\"\""
   ]
  },
  {
   "cell_type": "code",
   "execution_count": 172,
   "metadata": {},
   "outputs": [],
   "source": [
    "# Dividir as linhas em uma lista\n",
    "linhas = dados.strip().split('\\n')\n",
    "\n",
    "# Dividir os valores em cada linha\n",
    "dados_formatados = [linha.split('\\t') for linha in linhas]\n",
    "\n",
    "# Criar o DataFrame\n",
    "df = pd.DataFrame(dados_formatados, columns=[\"Data do evento\", \"Data de liquidação\", \"Evento\", \"Taxa\", \"Valor pago\", \"Status\"])\n",
    "\n",
    "# Converter as colunas de data para o formato datetime\n",
    "df[\"Data do evento\"] = pd.to_datetime(df[\"Data do evento\"], format='%d/%m/%Y')\n",
    "df[\"Data de liquidação\"] = pd.to_datetime(df[\"Data de liquidação\"], format='%d/%m/%Y')\n",
    "\n",
    "# Converter a coluna \"Taxa\" para taxa dividida por 100\n",
    "df[\"Taxa\"] = df[\"Taxa\"].str.replace('%', '').str.replace(',', '.').astype(float) / 100\n",
    "\n",
    "# Converter \"-\" por 0\n",
    "df[\"Valor pago\"] = df[\"Valor pago\"].str.replace('-','0')\n",
    "\n",
    "# Converter a coluna \"Valor pago\" para formato numérico (float)\n",
    "df[\"Valor pago\"] = df[\"Valor pago\"].str.strip(\"R$\").str.strip().str.replace(',','.').astype(float)\n",
    "\n",
    "\n",
    "# Reordenar as colunas\n",
    "colunas_na_ordem = [\"Data do evento\", \"Data de liquidação\", \"Evento\", \"Taxa\", \"Valor pago\", \"Status\"]\n",
    "df = df.reindex(columns=colunas_na_ordem)\n",
    "\n",
    "# Desconsiderando \"Premio\"\n",
    "df = df[~(df[\"Evento\"]==\"Premio\")]"
   ]
  },
  {
   "cell_type": "code",
   "execution_count": 173,
   "metadata": {},
   "outputs": [
    {
     "data": {
      "text/html": [
       "<div>\n",
       "<style scoped>\n",
       "    .dataframe tbody tr th:only-of-type {\n",
       "        vertical-align: middle;\n",
       "    }\n",
       "\n",
       "    .dataframe tbody tr th {\n",
       "        vertical-align: top;\n",
       "    }\n",
       "\n",
       "    .dataframe thead th {\n",
       "        text-align: right;\n",
       "    }\n",
       "</style>\n",
       "<table border=\"1\" class=\"dataframe\">\n",
       "  <thead>\n",
       "    <tr style=\"text-align: right;\">\n",
       "      <th></th>\n",
       "      <th>Data do evento</th>\n",
       "      <th>Data de liquidação</th>\n",
       "      <th>Evento</th>\n",
       "      <th>Taxa</th>\n",
       "      <th>Valor pago</th>\n",
       "      <th>Status</th>\n",
       "    </tr>\n",
       "  </thead>\n",
       "  <tbody>\n",
       "    <tr>\n",
       "      <th>0</th>\n",
       "      <td>2019-09-16</td>\n",
       "      <td>2019-09-16</td>\n",
       "      <td>Pagamento de juros</td>\n",
       "      <td>1.0615</td>\n",
       "      <td>14.627060</td>\n",
       "      <td>LIQUIDADO</td>\n",
       "    </tr>\n",
       "    <tr>\n",
       "      <th>1</th>\n",
       "      <td>2019-12-16</td>\n",
       "      <td>2019-12-16</td>\n",
       "      <td>Pagamento de juros</td>\n",
       "      <td>1.0615</td>\n",
       "      <td>13.669380</td>\n",
       "      <td>LIQUIDADO</td>\n",
       "    </tr>\n",
       "    <tr>\n",
       "      <th>2</th>\n",
       "      <td>2020-03-16</td>\n",
       "      <td>2020-03-16</td>\n",
       "      <td>Pagamento de juros</td>\n",
       "      <td>1.0615</td>\n",
       "      <td>10.870450</td>\n",
       "      <td>LIQUIDADO</td>\n",
       "    </tr>\n",
       "    <tr>\n",
       "      <th>3</th>\n",
       "      <td>2020-06-15</td>\n",
       "      <td>2020-06-15</td>\n",
       "      <td>Pagamento de juros</td>\n",
       "      <td>1.0615</td>\n",
       "      <td>8.513049</td>\n",
       "      <td>LIQUIDADO</td>\n",
       "    </tr>\n",
       "    <tr>\n",
       "      <th>4</th>\n",
       "      <td>2020-09-15</td>\n",
       "      <td>2020-09-15</td>\n",
       "      <td>Pagamento de juros</td>\n",
       "      <td>1.0615</td>\n",
       "      <td>5.654030</td>\n",
       "      <td>LIQUIDADO</td>\n",
       "    </tr>\n",
       "  </tbody>\n",
       "</table>\n",
       "</div>"
      ],
      "text/plain": [
       "  Data do evento Data de liquidação              Evento    Taxa  Valor pago  \\\n",
       "0     2019-09-16         2019-09-16  Pagamento de juros  1.0615   14.627060   \n",
       "1     2019-12-16         2019-12-16  Pagamento de juros  1.0615   13.669380   \n",
       "2     2020-03-16         2020-03-16  Pagamento de juros  1.0615   10.870450   \n",
       "3     2020-06-15         2020-06-15  Pagamento de juros  1.0615    8.513049   \n",
       "4     2020-09-15         2020-09-15  Pagamento de juros  1.0615    5.654030   \n",
       "\n",
       "      Status  \n",
       "0  LIQUIDADO  \n",
       "1  LIQUIDADO  \n",
       "2  LIQUIDADO  \n",
       "3  LIQUIDADO  \n",
       "4  LIQUIDADO  "
      ]
     },
     "execution_count": 173,
     "metadata": {},
     "output_type": "execute_result"
    }
   ],
   "source": [
    "df.head(5)"
   ]
  },
  {
   "cell_type": "code",
   "execution_count": 174,
   "metadata": {},
   "outputs": [],
   "source": [
    "data_base = pd.to_datetime(\"2022-01-20\")"
   ]
  },
  {
   "cell_type": "markdown",
   "metadata": {},
   "source": [
    "2. Demais inputs"
   ]
  },
  {
   "cell_type": "code",
   "execution_count": 196,
   "metadata": {},
   "outputs": [],
   "source": [
    "# VNA TODO sera input\n",
    "vna = 833.99958\n",
    "# PU PAR TODO sera input -> VNA * fator_juros\n",
    "pu_par = 842.034941\n",
    "taxa_negocio = 111.2153\n",
    "taxa_emissao = 106.15\n",
    "# valor emissao  (sera descontando as amortizacoes) TODO sera input\n",
    "ve = 1000"
   ]
  },
  {
   "cell_type": "code",
   "execution_count": 176,
   "metadata": {},
   "outputs": [],
   "source": [
    "# Curva TODO sera input\n",
    "dados = [\n",
    "    [pd.to_datetime(\"2022-03-15\"), 10.36],\n",
    "    [pd.to_datetime(\"2022-06-15\"), 11.39],\n",
    "    [pd.to_datetime(\"2022-09-15\"), 11.79],\n",
    "    [pd.to_datetime(\"2022-12-15\"), 11.89],\n",
    "    [pd.to_datetime(\"2023-03-15\"), 11.86],\n",
    "    [pd.to_datetime(\"2023-06-15\"), 11.81],\n",
    "    [pd.to_datetime(\"2023-09-15\"), 11.65],\n",
    "    [pd.to_datetime(\"2023-12-15\"), 11.46],\n",
    "    [pd.to_datetime(\"2024-03-15\"), 11.33],\n",
    "    [pd.to_datetime(\"2024-06-17\"), 11.25]\n",
    "]\n",
    "\n",
    "# Criar um DataFrame\n",
    "colunas = [\"Data\", \"taxa\"]\n",
    "df_curva = pd.DataFrame(dados, columns=colunas)"
   ]
  },
  {
   "cell_type": "code",
   "execution_count": 177,
   "metadata": {},
   "outputs": [],
   "source": [
    "# Feriados ANBIMA TODO sera input\n",
    "df_holidays = pd.read_csv(\"feriados.csv\", header=None)\n",
    "df_holidays[0] = pd.to_datetime(df_holidays[0], format=\"%d/%m/%Y\")"
   ]
  },
  {
   "cell_type": "markdown",
   "metadata": {},
   "source": [
    "3. Estabelecendo amortizacoes a partir do fluxo total do papel"
   ]
  },
  {
   "cell_type": "code",
   "execution_count": 178,
   "metadata": {},
   "outputs": [],
   "source": [
    "# Calculando amortizacoes\n",
    "df_amortizacao = df[df[\"Evento\"].isin([\"Amortizacao\"])].pivot(index=\"Data do evento\", columns=\"Evento\", values=[\"Taxa\", \"Valor pago\"])\n",
    "df_amortizacao = pd.concat([df_amortizacao[\"Taxa\"], df_amortizacao[\"Valor pago\"]], axis = 1)\n",
    "df_amortizacao.columns = [\"Taxa\", \"Valor pago\"]\n",
    "df_amortizacao = df_amortizacao.reset_index(drop = False)\n",
    "\n",
    "# Adicionando vencimento\n",
    "df_vencimento = df[df[\"Evento\"]==\"Vencimento (resgate)\"][[\"Data de liquidação\", \"Taxa\"]].rename(columns={\"Data de liquidação\": \"Data do evento\"})\n",
    "df_amortizacao = pd.concat([df_amortizacao,df_vencimento])\n",
    "\n",
    "lista_pagamento_amortizacao = []\n",
    "for porcentagem_amortizacao in df_amortizacao[\"Taxa\"].to_list():\n",
    "    valor_pago = ve * porcentagem_amortizacao\n",
    "    ve -= valor_pago\n",
    "    lista_pagamento_amortizacao.append(valor_pago)"
   ]
  },
  {
   "cell_type": "code",
   "execution_count": 179,
   "metadata": {},
   "outputs": [],
   "source": [
    "# Calculandod diferenca entre dias\n",
    "# instanciando objeto de feriados\n",
    "list_holidays = df_holidays[0].to_list()\n",
    "# [0:-1] para excluir o ultimo dia, ultimas versoes existe o campo inclusive\n",
    "df_amortizacao[\"dias_uteis\"] = df_amortizacao[\"Data do evento\"].apply(lambda x: len(pd.bdate_range(data_base, x, holidays=list_holidays, freq='C')[0:-1]))\n",
    "df_amortizacao[\"amortizacao_calculada\"] = lista_pagamento_amortizacao\n",
    "\n",
    "df_amortizacao = df_amortizacao[df_amortizacao[\"Data do evento\"] >= data_base]\n",
    "\n",
    "# Cruzando com a curva\n",
    "df_amortizacao = df_amortizacao.merge(df_curva, left_on = [\"Data do evento\"], right_on= [\"Data\"], how = \"left\")\n",
    "\n",
    "\n",
    "# Calculando juros projetados\n",
    "df_amortizacao[\"dias_uteis_t1\"] = df_amortizacao[\"dias_uteis\"].shift(1)\n",
    "df_amortizacao[\"taxa_t1\"] = df_amortizacao[\"taxa\"].shift(1)\n",
    "\n",
    "list_juros_projetado = []\n",
    "amortizacoes_soma = 0\n",
    "for index, row in df_amortizacao.iterrows():\n",
    "\n",
    "    if index == 0:\n",
    "        juros_projetado = (((((((row[\"taxa\"] / 100 + 1) ** (1 / 252) - 1) * taxa_emissao / 100) + 1) ** (row[\"dias_uteis\"]) - 1) * pu_par) + (pu_par - vna))\n",
    "    else:\n",
    "        juros_projetado = ((((((((row[\"taxa\"] / 100 + 1) ** (1 / 252) - 1) * taxa_emissao / 100) + 1) ** (\n",
    "        row[\"dias_uteis\"])) / ((((row[\"taxa_t1\"] / 100 + 1) ** (1 / 252) - 1) * taxa_emissao / 100) + 1) ** (\n",
    "                             row[\"dias_uteis_t1\"])) - 1) * (vna - amortizacoes_soma))\n",
    "    amortizacoes_soma += row[\"amortizacao_calculada\"]\n",
    "    list_juros_projetado.append(juros_projetado)\n",
    "df_amortizacao[\"juros_projetado\"] = list_juros_projetado\n",
    "\n",
    "# Truncando juros projetados\n",
    "df_amortizacao[\"juros_projetado\"] = df_amortizacao[\"juros_projetado\"].apply(lambda x: truncar_casas_decimais(valor=x,casas = 6))\n",
    "\n",
    "\n",
    "df_amortizacao[\"fluxo_descontado\"] = (((df_amortizacao[\"amortizacao_calculada\"] + df_amortizacao[\"juros_projetado\"]) / (((((df_amortizacao[\"taxa\"] / 100 + 1) ** (1 / 252) - 1) * (taxa_negocio / 100)) + 1) ** df_amortizacao[\"dias_uteis\"])))"
   ]
  },
  {
   "cell_type": "code",
   "execution_count": 180,
   "metadata": {},
   "outputs": [
    {
     "name": "stdout",
     "output_type": "stream",
     "text": [
      "pu_mtm: 836.638042832487\n"
     ]
    }
   ],
   "source": [
    "pu_mtm = df_amortizacao[\"fluxo_descontado\"].sum()\n",
    "print(f\"pu_mtm: {pu_mtm}\")"
   ]
  },
  {
   "cell_type": "code",
   "execution_count": 181,
   "metadata": {},
   "outputs": [
    {
     "name": "stdout",
     "output_type": "stream",
     "text": [
      "duration: 292.45\n"
     ]
    }
   ],
   "source": [
    "duration = truncar_casas_decimais(((df_amortizacao['dias_uteis'] * df_amortizacao['fluxo_descontado']).sum())/pu_mtm,2)\n",
    "print(f\"duration: {duration}\")"
   ]
  },
  {
   "cell_type": "markdown",
   "metadata": {},
   "source": [
    "4. Comparando com calculadora ANBIMA"
   ]
  },
  {
   "cell_type": "code",
   "execution_count": 182,
   "metadata": {},
   "outputs": [],
   "source": [
    "# https://data.anbima.com.br/ferramentas/calculadora/debentures/CSMGA4?ativo=debentures"
   ]
  },
  {
   "cell_type": "code",
   "execution_count": 183,
   "metadata": {},
   "outputs": [
    {
     "data": {
      "image/png": "[encoded data removed]",
      "text/plain": [
       "<IPython.core.display.Image object>"
      ]
     },
     "execution_count": 183,
     "metadata": {},
     "output_type": "execute_result"
    }
   ],
   "source": [
    "from IPython import display\n",
    "display.Image(\"exemplo_debenture.PNG\")"
   ]
  },
  {
   "cell_type": "code",
   "execution_count": 184,
   "metadata": {},
   "outputs": [],
   "source": [
    "# Como chegar no PU PAR? Pegamos o valor pu_par diretamente do site. \n",
    "# Porem, para calcular e chegar neste valor devemos pegar o valor de emissao e descontar todas as amortizacoes ate a data de referencia.\n",
    "# Feito isso, devemos acruar o CDI a partir da ultima data de amortizacao ate a data de referencia\n",
    "\n"
   ]
  },
  {
   "cell_type": "code",
   "execution_count": 185,
   "metadata": {},
   "outputs": [
    {
     "name": "stdout",
     "output_type": "stream",
     "text": [
      "primeira data: 2021-09-15 00:00:00\n",
      "ultima data: 2022-01-20 00:00:00\n"
     ]
    }
   ],
   "source": [
    "# Pegando cdi entre 2021-12-15 e 2022-01-20\n",
    "primeira_data = df[(df[\"Evento\"]==\"Amortizacao\")&(df[\"Data do evento\"]<=data_base)][\"Data do evento\"].min()\n",
    "print(f\"primeira data: {primeira_data}\")\n",
    "print(f\"ultima data: {data_base}\")"
   ]
  },
  {
   "cell_type": "code",
   "execution_count": 186,
   "metadata": {},
   "outputs": [
    {
     "data": {
      "text/html": [
       "<div>\n",
       "<style scoped>\n",
       "    .dataframe tbody tr th:only-of-type {\n",
       "        vertical-align: middle;\n",
       "    }\n",
       "\n",
       "    .dataframe tbody tr th {\n",
       "        vertical-align: top;\n",
       "    }\n",
       "\n",
       "    .dataframe thead th {\n",
       "        text-align: right;\n",
       "    }\n",
       "</style>\n",
       "<table border=\"1\" class=\"dataframe\">\n",
       "  <thead>\n",
       "    <tr style=\"text-align: right;\">\n",
       "      <th></th>\n",
       "      <th>Data</th>\n",
       "      <th>Taxa</th>\n",
       "    </tr>\n",
       "  </thead>\n",
       "  <tbody>\n",
       "    <tr>\n",
       "      <th>0</th>\n",
       "      <td>2021-12-15</td>\n",
       "      <td>9.15</td>\n",
       "    </tr>\n",
       "    <tr>\n",
       "      <th>1</th>\n",
       "      <td>2021-12-16</td>\n",
       "      <td>9.15</td>\n",
       "    </tr>\n",
       "    <tr>\n",
       "      <th>2</th>\n",
       "      <td>2021-12-17</td>\n",
       "      <td>9.15</td>\n",
       "    </tr>\n",
       "    <tr>\n",
       "      <th>3</th>\n",
       "      <td>2021-12-20</td>\n",
       "      <td>9.15</td>\n",
       "    </tr>\n",
       "    <tr>\n",
       "      <th>4</th>\n",
       "      <td>2021-12-21</td>\n",
       "      <td>9.15</td>\n",
       "    </tr>\n",
       "  </tbody>\n",
       "</table>\n",
       "</div>"
      ],
      "text/plain": [
       "        Data  Taxa\n",
       "0 2021-12-15  9.15\n",
       "1 2021-12-16  9.15\n",
       "2 2021-12-17  9.15\n",
       "3 2021-12-20  9.15\n",
       "4 2021-12-21  9.15"
      ]
     },
     "execution_count": 186,
     "metadata": {},
     "output_type": "execute_result"
    }
   ],
   "source": [
    "data = [\n",
    "    (\"15/12/2021\", 9.15),\n",
    "    (\"16/12/2021\", 9.15),\n",
    "    (\"17/12/2021\", 9.15),\n",
    "    (\"20/12/2021\", 9.15),\n",
    "    (\"21/12/2021\", 9.15),\n",
    "    (\"22/12/2021\", 9.15),\n",
    "    (\"23/12/2021\", 9.15),\n",
    "    (\"24/12/2021\", 9.15),\n",
    "    (\"27/12/2021\", 9.15),\n",
    "    (\"28/12/2021\", 9.15),\n",
    "    (\"29/12/2021\", 9.15),\n",
    "    (\"30/12/2021\", 9.15),\n",
    "    (\"31/12/2021\", 9.15),\n",
    "    (\"03/01/2022\", 9.15),\n",
    "    (\"04/01/2022\", 9.15),\n",
    "    (\"05/01/2022\", 9.15),\n",
    "    (\"06/01/2022\", 9.15),\n",
    "    (\"07/01/2022\", 9.15),\n",
    "    (\"10/01/2022\", 9.15),\n",
    "    (\"11/01/2022\", 9.15),\n",
    "    (\"12/01/2022\", 9.15),\n",
    "    (\"13/01/2022\", 9.15),\n",
    "    (\"14/01/2022\", 9.15),\n",
    "    (\"17/01/2022\", 9.15),\n",
    "    (\"18/01/2022\", 9.15),\n",
    "    (\"19/01/2022\", 9.15),\n",
    "    (\"20/01/2022\", 9.15)\n",
    "]\n",
    "\n",
    "df_cdi = pd.DataFrame(data, columns=[\"Data\", \"Taxa\"])\n",
    "df_cdi[\"Data\"] = pd.to_datetime(df_cdi[\"Data\"], format=\"%d/%m/%Y\")\n",
    "df_cdi[\"Taxa\"] = df_cdi[\"Taxa\"].astype(float)\n",
    "df_cdi.head(5)\n"
   ]
  },
  {
   "cell_type": "code",
   "execution_count": 243,
   "metadata": {},
   "outputs": [
    {
     "name": "stdout",
     "output_type": "stream",
     "text": [
      "fator acumulado cdi: 1.0096347956048644\n"
     ]
    }
   ],
   "source": [
    "df_cdi[\"fator_diario\"] = (1+(df_cdi[\"Taxa\"]/100))**(1/252)\n",
    "df_cdi[\"fator_diario_ajustado\"] = 1 + ((df_cdi[\"fator_diario\"] - 1)*taxa_emissao/100)\n",
    "df_cdi[\"fator_diario_ajustado\"] = df_cdi[\"fator_diario_ajustado\"].round(decimals=16) \n",
    "# Incluind 1 no primeiro dia\n",
    "condition = df_cdi.index == 0\n",
    "df_cdi.loc[condition, \"fator_diario_ajustado\"] = 1\n",
    "df_cdi[\"fator_acumulado\"] = df_cdi[\"fator_diario_ajustado\"].cumprod()\n",
    "fator_acumulado_cdi = df_cdi[\"fator_acumulado\"].max()\n",
    "print(f\"fator acumulado cdi: {fator_acumulado_cdi}\")\n"
   ]
  },
  {
   "cell_type": "code",
   "execution_count": 244,
   "metadata": {},
   "outputs": [],
   "source": [
    "# Chegando no valor desconsiderando ultimas amortizacoes:\n",
    "amortizacaoes_desconsiderar = df[(df[\"Data do evento\"] <= data_base)&(df[\"Evento\"]==\"Amortizacao\")][\"Valor pago\"].sum()\n",
    "ve = 1000 # valor emissao\n",
    "pu_par_calculado = (ve - amortizacaoes_desconsiderar) * fator_acumulado_cdi # eh o proprio valor de emissao descontado dos valores pagos acruados os juros da data do ultimo evento ate a data base\n"
   ]
  },
  {
   "cell_type": "code",
   "execution_count": 245,
   "metadata": {},
   "outputs": [
    {
     "name": "stdout",
     "output_type": "stream",
     "text": [
      "pu par Anbima: 842.034941\n",
      "pu par calculado: 842.0349954878426\n"
     ]
    }
   ],
   "source": [
    "print(f\"pu par Anbima: {pu_par}\")\n",
    "print(f\"pu par calculado: {pu_par_calculado}\")"
   ]
  },
  {
   "cell_type": "code",
   "execution_count": null,
   "metadata": {},
   "outputs": [],
   "source": []
  }
 ],
 "metadata": {
  "kernelspec": {
   "display_name": "venv37",
   "language": "python",
   "name": "python3"
  },
  "language_info": {
   "codemirror_mode": {
    "name": "ipython",
    "version": 3
   },
   "file_extension": ".py",
   "mimetype": "text/x-python",
   "name": "python",
   "nbconvert_exporter": "python",
   "pygments_lexer": "ipython3",
   "version": "3.7.9"
  },
  "orig_nbformat": 4
 },
 "nbformat": 4,
 "nbformat_minor": 2
}
